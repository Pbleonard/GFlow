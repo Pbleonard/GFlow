{
 "cells": [
  {
   "cell_type": "code",
   "execution_count": 1,
   "metadata": {
    "collapsed": false
   },
   "outputs": [],
   "source": [
    "import sys, os\n",
    "import math, random\n",
    "import numpy as np\n",
    "import pandas as pd\n",
    "import operator\n",
    "\n",
    "from scipy.sparse import csr_matrix, lil_matrix\n",
    "from scipy.sparse.csgraph import dijkstra\n",
    "\n",
    "from tqdm import tqdm\n"
   ]
  },
  {
   "cell_type": "code",
   "execution_count": 2,
   "metadata": {
    "collapsed": false
   },
   "outputs": [],
   "source": [
    "class Raster(np.ndarray):\n",
    "    def __new__(cls, input_array, cellsize, xllcorner, yllcorner):\n",
    "        obj = np.asarray(input_array).view(cls)\n",
    "        obj.cellsize  = cellsize\n",
    "        obj.xllcorner = xllcorner\n",
    "        obj.yllcorner = yllcorner\n",
    "        \n",
    "        # 1-D list of the raster's values \n",
    "        v = obj.flatten()\n",
    "        obj.values = v[~np.isnan(v)]\n",
    "        \n",
    "        return obj\n",
    "    \n",
    "    @classmethod\n",
    "    def load(cls, filename):\n",
    "        data  = [ ]\n",
    "        attrs = { }\n",
    "        with open(filename) as f:\n",
    "            for i in range(6):\n",
    "                key,value = next(f).strip().split()\n",
    "                attrs[key] = value\n",
    "            NODATA_value = attrs.get(\"NODATA_value\", \"-9999\")\n",
    "        \n",
    "            for line in f:\n",
    "                row = list(map(lambda x: np.nan if x == NODATA_value else float(x), line.split()))\n",
    "                #row = [ x if x < 1e3 else np.nan for x in row ]\n",
    "                if row:\n",
    "                    data.append(row)\n",
    "\n",
    "        return Raster(np.asarray(data), float(attrs[\"cellsize\"])\n",
    "                                      , float(attrs[\"xllcorner\"])\n",
    "                                      , float(attrs[\"yllcorner\"]))\n"
   ]
  },
  {
   "cell_type": "code",
   "execution_count": 3,
   "metadata": {
    "collapsed": false
   },
   "outputs": [
    {
     "name": "stdout",
     "output_type": "stream",
     "text": [
      "CPU times: user 4.08 s, sys: 341 ms, total: 4.42 s\n",
      "Wall time: 5.54 s\n"
     ]
    }
   ],
   "source": [
    "%%time\n",
    "I = Raster.load(\"../bb450_final.asc\")"
   ]
  },
  {
   "cell_type": "code",
   "execution_count": 4,
   "metadata": {
    "collapsed": false
   },
   "outputs": [
    {
     "name": "stdout",
     "output_type": "stream",
     "text": [
      "CPU times: user 3.89 s, sys: 289 ms, total: 4.18 s\n",
      "Wall time: 4.48 s\n"
     ]
    }
   ],
   "source": [
    "%%time\n",
    "R = Raster.load(\"../../BB450/bb_resist450.asc\")"
   ]
  },
  {
   "cell_type": "code",
   "execution_count": 5,
   "metadata": {
    "collapsed": false
   },
   "outputs": [
    {
     "data": {
      "text/plain": [
       "245"
      ]
     },
     "execution_count": 5,
     "metadata": {},
     "output_type": "execute_result"
    }
   ],
   "source": [
    "nodes = Raster.load(\"../../BB450/bb_nodes450.asc\")\n",
    "nodes = np.argwhere(~np.isnan(nodes))+1  # only care about the indicies\n",
    "len(nodes)"
   ]
  },
  {
   "cell_type": "code",
   "execution_count": 6,
   "metadata": {
    "collapsed": false
   },
   "outputs": [
    {
     "name": "stdout",
     "output_type": "stream",
     "text": [
      "N = 2,806,114\n",
      "sqr(N) = 7,874,275,780,996\n",
      "9N = 25,255,026\n"
     ]
    }
   ],
   "source": [
    "N = len(I.values)\n",
    "print(\"N = {:,}\\nsqr(N) = {:,}\\n9N = {:,}\".format(N, N**2, 9*N))"
   ]
  },
  {
   "cell_type": "code",
   "execution_count": 7,
   "metadata": {
    "collapsed": false
   },
   "outputs": [
    {
     "name": "stdout",
     "output_type": "stream",
     "text": [
      "2806114\n",
      "CPU times: user 6.18 s, sys: 503 ms, total: 6.68 s\n",
      "Wall time: 6.95 s\n"
     ]
    }
   ],
   "source": [
    "%%time\n",
    "indices = { (int(x),int(y)):index for index,(x,y) in enumerate(np.argwhere(~np.isnan(I))) }\n",
    "print(len(indices))"
   ]
  },
  {
   "cell_type": "code",
   "execution_count": 8,
   "metadata": {
    "collapsed": false
   },
   "outputs": [
    {
     "name": "stdout",
     "output_type": "stream",
     "text": [
      "CPU times: user 5.23 s, sys: 320 ms, total: 5.55 s\n",
      "Wall time: 5.92 s\n"
     ]
    }
   ],
   "source": [
    "%%time\n",
    "coordinates = [ (int(x),int(y)) for (x,y) in np.argwhere(~np.isnan(I)) ]"
   ]
  },
  {
   "cell_type": "code",
   "execution_count": 9,
   "metadata": {
    "collapsed": false
   },
   "outputs": [
    {
     "name": "stderr",
     "output_type": "stream",
     "text": [
      "100%|██████████| 2806114/2806114 [01:41<00:00, 27534.45it/s]\n"
     ]
    },
    {
     "data": {
      "text/plain": [
       "<2806114x2806114 sparse matrix of type '<class 'numpy.float64'>'\n",
       "\twith 11211754 stored elements in LInked List format>"
      ]
     },
     "execution_count": 9,
     "metadata": {},
     "output_type": "execute_result"
    }
   ],
   "source": [
    "G1 = lil_matrix((N, N))\n",
    "for (i,j),id1 in tqdm(indices.items()):\n",
    "    try:\n",
    "        id2 = indices[i+1,j]\n",
    "        value = (R[i,j] + R[i+1,j]) / 2.\n",
    "        G1[id1,id2] = value\n",
    "        G1[id2,id1] = value\n",
    "    except KeyError:\n",
    "        pass\n",
    "    try:\n",
    "        id2 = indices[i,j+1]\n",
    "        value = (R[i,j] + R[i,j+1]) / 2.\n",
    "        G1[id1,id2] = value\n",
    "        G1[id2,id1] = value\n",
    "    except KeyError:\n",
    "        pass\n",
    "\n",
    "G1"
   ]
  },
  {
   "cell_type": "code",
   "execution_count": 10,
   "metadata": {
    "collapsed": false
   },
   "outputs": [
    {
     "name": "stdout",
     "output_type": "stream",
     "text": [
      "CPU times: user 9.9 s, sys: 356 ms, total: 10.3 s\n",
      "Wall time: 10.6 s\n"
     ]
    }
   ],
   "source": [
    "%%time\n",
    "G = csr_matrix(G1)"
   ]
  },
  {
   "cell_type": "code",
   "execution_count": 11,
   "metadata": {
    "collapsed": false
   },
   "outputs": [
    {
     "data": {
      "text/plain": [
       "<2806114x2806114 sparse matrix of type '<class 'numpy.float64'>'\n",
       "\twith 11211754 stored elements in Compressed Sparse Row format>"
      ]
     },
     "execution_count": 11,
     "metadata": {},
     "output_type": "execute_result"
    }
   ],
   "source": [
    "G"
   ]
  },
  {
   "cell_type": "code",
   "execution_count": 12,
   "metadata": {
    "collapsed": false
   },
   "outputs": [],
   "source": [
    "nindices = list(filter(lambda i: i is not None, [ indices.get((y,x)) for y,x in nodes ]))"
   ]
  },
  {
   "cell_type": "code",
   "execution_count": 13,
   "metadata": {
    "collapsed": false
   },
   "outputs": [
    {
     "data": {
      "text/plain": [
       "245"
      ]
     },
     "execution_count": 13,
     "metadata": {},
     "output_type": "execute_result"
    }
   ],
   "source": [
    "len(nindices)"
   ]
  },
  {
   "cell_type": "code",
   "execution_count": 14,
   "metadata": {
    "collapsed": false
   },
   "outputs": [
    {
     "name": "stdout",
     "output_type": "stream",
     "text": [
      "CPU times: user 16min 50s, sys: 36.4 s, total: 17min 26s\n",
      "Wall time: 21min 42s\n"
     ]
    }
   ],
   "source": [
    "%%time\n",
    "dist_matrix,predecessors = dijkstra(G, directed=False, return_predecessors=True, indices=nindices)"
   ]
  },
  {
   "cell_type": "code",
   "execution_count": 15,
   "metadata": {
    "collapsed": false
   },
   "outputs": [
    {
     "name": "stdout",
     "output_type": "stream",
     "text": [
      "array([[     34,      35,       1, ..., 2806112, 2806107, 2806110],\n",
      "       [     34,      35,       1, ..., 2806112, 2806107, 2806110],\n",
      "       [     34,      35,       1, ..., 2806112, 2806107, 2806110],\n",
      "       ..., \n",
      "       [     34,      35,       1, ..., 2806112, 2806107, 2806110],\n",
      "       [     34,      35,       1, ..., 2806112, 2806107, 2806110],\n",
      "       [     34,      35,       1, ..., 2806112, 2806107, 2806110]], dtype=int32)\n"
     ]
    }
   ],
   "source": [
    "print(repr(predecessors))"
   ]
  },
  {
   "cell_type": "code",
   "execution_count": 16,
   "metadata": {
    "collapsed": true
   },
   "outputs": [],
   "source": [
    "def getPaths(origin):\n",
    "    lines  = [ ]\n",
    "    for index,start in enumerate(nindices):\n",
    "        if index == origin:\n",
    "            continue\n",
    "        i = start\n",
    "        lines.append((dist_matrix[origin][i], [ ], [ ]))\n",
    "        while i != -9999:\n",
    "            lines[-1][1].append(coordinates[i][1])\n",
    "            lines[-1][2].append(coordinates[i][0])\n",
    "            i = predecessors[origin][i]\n",
    "    return lines"
   ]
  },
  {
   "cell_type": "code",
   "execution_count": 17,
   "metadata": {
    "collapsed": false
   },
   "outputs": [],
   "source": [
    "def savePaths(origin, output_name):\n",
    "    paths = getPaths(origin)\n",
    "    rmin  = min(map(operator.itemgetter(0), paths))\n",
    "    rmax  = max(map(operator.itemgetter(0), paths))\n",
    "\n",
    "    with open(output_name.format(origin), \"w\") as f:\n",
    "        print(len(paths), rmin, rmax, file=f)\n",
    "        for rdist,xs,ys in paths:\n",
    "            print(len(xs), rdist, file=f)\n",
    "            print(*xs, file=f)\n",
    "            print(*ys, file=f)\n"
   ]
  },
  {
   "cell_type": "code",
   "execution_count": 18,
   "metadata": {
    "collapsed": false
   },
   "outputs": [
    {
     "name": "stderr",
     "output_type": "stream",
     "text": [
      "100%|██████████| 245/245 [10:08<00:00,  2.97s/it]\n"
     ]
    }
   ],
   "source": [
    "for i in tqdm(range(len(nindices))):\n",
    "    savePaths(i, \"/Users/eduffy/Research/BB450/LCP/BB450_{:06d}.lcp\")"
   ]
  },
  {
   "cell_type": "code",
   "execution_count": null,
   "metadata": {
    "collapsed": true
   },
   "outputs": [],
   "source": []
  }
 ],
 "metadata": {
  "kernelspec": {
   "display_name": "Python 3",
   "language": "python",
   "name": "python3"
  },
  "language_info": {
   "codemirror_mode": {
    "name": "ipython",
    "version": 3
   },
   "file_extension": ".py",
   "mimetype": "text/x-python",
   "name": "python",
   "nbconvert_exporter": "python",
   "pygments_lexer": "ipython3",
   "version": "3.5.2"
  }
 },
 "nbformat": 4,
 "nbformat_minor": 1
}
